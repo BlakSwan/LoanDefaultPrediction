{
 "cells": [
  {
   "cell_type": "code",
   "execution_count": 28,
   "metadata": {},
   "outputs": [],
   "source": [
    "import pandas as pd\n",
    "import numpy as np\n",
    "import sklearn\n",
    "from sklearn.pipeline import Pipeline\n",
    "from sklearn.impute import SimpleImputer\n",
    "from sklearn.preprocessing import StandardScaler, OneHotEncoder\n",
    "from sklearn.compose import ColumnTransformer\n",
    "from sklearn.compose import make_column_selector as selector\n",
    "from sklearn.model_selection import train_test_split\n",
    "\n",
    "# import data and add default data to main dataframe\n",
    "df = pd.read_csv('/Users/chrisjackson/XXXX/1_Financial Data.csv')\n",
    "df2 = pd.read_csv('/Users/chrisjackson/XXXX/2_Default Data.csv')\n",
    "df['default'] = np.where(df['LOAN_ID'].isin(df2['LOAN_ID']), 1, 0)\n",
    "df['PD_RISK_RATING'] = df['PD_RISK_RATING'].astype('object')\n",
    "# set X and y\n",
    "# X = df.drop(['PD_RISK_RATING', 'default', 'LOAN_ID'], axis=1)\n",
    "X = df[['X2', 'X3', 'X4', 'X5', 'X6', 'X8', 'X9', 'X11', 'PD_RISK_RATING']]\n",
    "y = df['default']\n",
    "\n",
    "# set up pipeline for imputation and scaling of categorical variables and numerical variables\n",
    "num_transform = Pipeline(steps=[\n",
    "    ('imputer', SimpleImputer(strategy='mean')),\n",
    "    ('scaler', StandardScaler())])\n",
    "cat_transform = Pipeline(steps=[\n",
    "    ('imputer', SimpleImputer(strategy='constant', fill_value='missing')),\n",
    "    ('onehot', OneHotEncoder(handle_unknown='ignore'))])\n",
    "\n",
    "# get column indexes for categorical and numerical variables\n",
    "num_features = df.select_dtypes(include=['int64', 'float64']).drop(['default'], axis=1)\n",
    "cat_features = df.select_dtypes(include=['object']).drop(['LOAN_ID'], axis=1)\n",
    "\n",
    "numeric_cols = df.dtypes.apply(lambda x: x.kind in 'bifc').reset_index(\n",
    "    drop=True).loc[lambda x: x == True].index\n",
    "cat_cols = (df.dtypes == 'object').reset_index(\n",
    "    drop=True).loc[lambda x: x == True].index\n",
    "\n",
    "# set up column transformer for categorical and numerical variables\n",
    "preprocessor = ColumnTransformer(\n",
    "    transformers=[\n",
    "        ('num', num_transform,  selector(dtype_exclude=\"object\")),\n",
    "        ('cat', cat_transform, selector(dtype_include=\"object\"))])\n"
   ]
  },
  {
   "cell_type": "code",
   "execution_count": null,
   "metadata": {},
   "outputs": [],
   "source": [
    "num_features"
   ]
  },
  {
   "cell_type": "code",
   "execution_count": 29,
   "metadata": {},
   "outputs": [],
   "source": [
    "# use pipeline to impute and scale numerical variables and one hot encode categorical variables\n",
    "X_pipe = preprocessor.fit_transform(X)\n",
    "\n",
    "# split data into train and test sets\n",
    "X_train, X_test, y_train, y_test = train_test_split(\n",
    "    X_pipe, y, test_size=0.30, random_state=42, stratify=y)"
   ]
  },
  {
   "cell_type": "code",
   "execution_count": 30,
   "metadata": {},
   "outputs": [],
   "source": [
    "# used this from a stack overflow post to get feature names from column transformer link: https://johaupt.github.io/blog/columnTransformer_feature_names.html\n",
    "\n",
    "def get_feature_names(column_transformer):\n",
    "    \"\"\"Get feature names from all transformers.\n",
    "    Returns\n",
    "    -------\n",
    "    feature_names : list of strings\n",
    "        Names of the features produced by transform.\n",
    "    \"\"\"\n",
    "    # Remove the internal helper function\n",
    "    #check_is_fitted(column_transformer)\n",
    "    \n",
    "    # Turn loopkup into function for better handling with pipeline later\n",
    "    def get_names(trans):\n",
    "        # >> Original get_feature_names() method\n",
    "        if trans == 'drop' or (\n",
    "                hasattr(column, '__len__') and not len(column)):\n",
    "            return []\n",
    "        if trans == 'passthrough':\n",
    "            if hasattr(column_transformer, '_df_columns'):\n",
    "                if ((not isinstance(column, slice))\n",
    "                        and all(isinstance(col, str) for col in column)):\n",
    "                    return column\n",
    "                else:\n",
    "                    return column_transformer._df_columns[column]\n",
    "            else:\n",
    "                indices = np.arange(column_transformer._n_features)\n",
    "                return ['x%d' % i for i in indices[column]]\n",
    "        if not hasattr(trans, 'get_feature_names'):\n",
    "        # >>> Change: Return input column names if no method avaiable\n",
    "            # Turn error into a warning\n",
    "            warnings.warn(\"Transformer %s (type %s) does not \"\n",
    "                                 \"provide get_feature_names. \"\n",
    "                                 \"Will return input column names if available\"\n",
    "                                 % (str(name), type(trans).__name__))\n",
    "            # For transformers without a get_features_names method, use the input\n",
    "            # names to the column transformer\n",
    "            if column is None:\n",
    "                return []\n",
    "            else:\n",
    "                return [name + \"__\" + f for f in column]\n",
    "\n",
    "        return [name + \"__\" + f for f in trans.get_feature_names()]\n",
    "    \n",
    "    ### Start of processing\n",
    "    feature_names = []\n",
    "    \n",
    "    # Allow transformers to be pipelines. Pipeline steps are named differently, so preprocessing is needed\n",
    "    if type(column_transformer) == sklearn.pipeline.Pipeline:\n",
    "        l_transformers = [(name, trans, None, None) for step, name, trans in column_transformer._iter()]\n",
    "    else:\n",
    "        # For column transformers, follow the original method\n",
    "        l_transformers = list(column_transformer._iter(fitted=True))\n",
    "    \n",
    "    \n",
    "    for name, trans, column, _ in l_transformers: \n",
    "        if type(trans) == sklearn.pipeline.Pipeline:\n",
    "            # Recursive call on pipeline\n",
    "            _names = get_feature_names(trans)\n",
    "            # if pipeline has no transformer that returns names\n",
    "            if len(_names)==0:\n",
    "                _names = [name + \"__\" + f for f in column]\n",
    "            feature_names.extend(_names)\n",
    "        else:\n",
    "            feature_names.extend(get_names(trans))\n",
    "    \n",
    "    return feature_names"
   ]
  },
  {
   "cell_type": "code",
   "execution_count": 11,
   "metadata": {},
   "outputs": [],
   "source": [
    "from imblearn.combine import SMOTEENN\n",
    "\n",
    "os = SMOTEENN(random_state=42)\n",
    "\n",
    "os_data_X, os_data_y = os.fit_resample(X_train, y_train)"
   ]
  },
  {
   "cell_type": "markdown",
   "metadata": {},
   "source": [
    "## Modelling\n"
   ]
  },
  {
   "cell_type": "code",
   "execution_count": 31,
   "metadata": {},
   "outputs": [],
   "source": [
    "from xgboost import XGBClassifier\n",
    "from sklearn.svm import SVC\n",
    "from sklearn.metrics import *\n",
    "from matplotlib import pyplot as plt\n",
    "import warnings\n",
    "warnings.simplefilter(action='ignore', category=FutureWarning)"
   ]
  },
  {
   "cell_type": "code",
   "execution_count": 32,
   "metadata": {},
   "outputs": [
    {
     "name": "stdout",
     "output_type": "stream",
     "text": [
      "              precision    recall  f1-score   support\n",
      "\n",
      "           0       1.00      1.00      1.00      2961\n",
      "           1       0.93      0.69      0.79        39\n",
      "\n",
      "    accuracy                           1.00      3000\n",
      "   macro avg       0.96      0.85      0.90      3000\n",
      "weighted avg       1.00      1.00      0.99      3000\n",
      "\n"
     ]
    },
    {
     "name": "stderr",
     "output_type": "stream",
     "text": [
      "/var/folders/5q/1h7fcv954qj2xln19k_k5zfw0000gn/T/ipykernel_62267/1809191144.py:30: UserWarning: Transformer imputer (type SimpleImputer) does not provide get_feature_names. Will return input column names if available\n",
      "  warnings.warn(\"Transformer %s (type %s) does not \"\n",
      "/var/folders/5q/1h7fcv954qj2xln19k_k5zfw0000gn/T/ipykernel_62267/1809191144.py:30: UserWarning: Transformer scaler (type StandardScaler) does not provide get_feature_names. Will return input column names if available\n",
      "  warnings.warn(\"Transformer %s (type %s) does not \"\n"
     ]
    },
    {
     "data": {
      "image/png": "[encoded data removed]",
      "text/plain": [
       "<Figure size 432x288 with 1 Axes>"
      ]
     },
     "metadata": {
      "needs_background": "light"
     },
     "output_type": "display_data"
    },
    {
     "name": "stdout",
     "output_type": "stream",
     "text": [
      "[[ 0.11484273 -0.81005005 -1.8391077  -2.55142618 -0.08205876  0.07131579\n",
      "  -0.04371965 -0.05332724  0.59468473  0.39032734 -0.50139663 -0.7097829\n",
      "  -0.54662291 -0.47932829 -0.24227469 -0.50560665  1.          1.        ]]\n"
     ]
    }
   ],
   "source": [
    "clf = SVC(C=1, class_weight={0: 1}, gamma=1, kernel='linear', probability=True,\n",
    "      random_state=42)\n",
    "clf.fit(X_train, y_train)\n",
    "predic = clf.predict(X_test)\n",
    "print(classification_report(y_test, predic))\n",
    "\n",
    "\n",
    "feature_names = get_feature_names(preprocessor)\n",
    "def f_importances(coef, names):\n",
    "    imp = coef\n",
    "    imp,names = zip(*sorted(zip(imp,names)))\n",
    "    plt.barh(range(len(names)), imp, align='center')\n",
    "    plt.yticks(range(len(names)), names)\n",
    "    plt.xticks(np.arange(-2, 2.5, step=0.2))\n",
    "    plt.show()\n",
    "\n",
    "\n",
    "df = pd.DataFrame(clf.coef_, columns = feature_names)\n",
    "f_importances(df, feature_names)\n",
    "print(clf.coef_)"
   ]
  },
  {
   "cell_type": "code",
   "execution_count": 33,
   "metadata": {},
   "outputs": [
    {
     "name": "stdout",
     "output_type": "stream",
     "text": [
      "              precision    recall  f1-score   support\n",
      "\n",
      "           0       1.00      1.00      1.00      2961\n",
      "           1       0.90      0.72      0.80        39\n",
      "\n",
      "    accuracy                           1.00      3000\n",
      "   macro avg       0.95      0.86      0.90      3000\n",
      "weighted avg       1.00      1.00      1.00      3000\n",
      "\n"
     ]
    }
   ],
   "source": [
    "xgb = XGBClassifier(base_score=0.5, booster='gbtree', colsample_bylevel=1,\n",
    "                colsample_bynode=1, colsample_bytree=1.0,\n",
    "                enable_categorical=False, eval_metric='logloss', gamma=1,\n",
    "                gpu_id=-1, importance_type=None, interaction_constraints='',\n",
    "                learning_rate=0.300000012, max_delta_step=0, max_depth=4,\n",
    "                min_child_weight=5, monotone_constraints='()',\n",
    "                n_estimators=100, n_jobs=10, num_parallel_tree=1,\n",
    "                predictor='auto', random_state=0, reg_alpha=0, reg_lambda=1,\n",
    "                scale_pos_weight=1, subsample=0.8, tree_method='exact',\n",
    "                use_label_encoder=False, validate_parameters=1, verbosity=None)\n",
    "xgb.fit(X_train, y_train)\n",
    "predic = xgb.predict(X_test)\n",
    "print(classification_report(y_test, predic))\n",
    "\n",
    "df = df.append(pd.Series(xgb.feature_importances_), ignore_index=True)\n"
   ]
  },
  {
   "cell_type": "code",
   "execution_count": 34,
   "metadata": {},
   "outputs": [
    {
     "data": {
      "image/png": "[encoded data removed]",
      "text/plain": [
       "<Figure size 432x288 with 1 Axes>"
      ]
     },
     "metadata": {
      "needs_background": "light"
     },
     "output_type": "display_data"
    }
   ],
   "source": [
    "def f_importances(coef, names):\n",
    "    imp = coef\n",
    "    imp,names = zip(*sorted(zip(imp,names)))\n",
    "    plt.barh(range(len(names)), imp, align='center')\n",
    "    plt.yticks(range(len(names)), names)\n",
    "    plt.show()\n",
    "\n",
    "\n",
    "f_importances(xgb.feature_importances_, feature_names)"
   ]
  },
  {
   "cell_type": "code",
   "execution_count": 27,
   "metadata": {},
   "outputs": [
    {
     "name": "stdout",
     "output_type": "stream",
     "text": [
      "[0.05045393 0.17720903 0.2609852  0.27401853 0.04941988 0.05884484\n",
      " 0.06384706 0.06522153 0.         0.         0.         0.\n",
      " 0.         0.         0.         0.         0.         0.        ]\n"
     ]
    }
   ],
   "source": [
    "print(xgb.feature_importances_)"
   ]
  },
  {
   "cell_type": "code",
   "execution_count": null,
   "metadata": {},
   "outputs": [],
   "source": []
  },
  {
   "cell_type": "code",
   "execution_count": null,
   "metadata": {},
   "outputs": [],
   "source": []
  },
  {
   "cell_type": "code",
   "execution_count": null,
   "metadata": {},
   "outputs": [],
   "source": []
  },
  {
   "cell_type": "code",
   "execution_count": null,
   "metadata": {},
   "outputs": [],
   "source": []
  }
 ],
 "metadata": {
  "kernelspec": {
   "display_name": "Python 3.9.12 ('mini_env')",
   "language": "python",
   "name": "python3"
  },
  "language_info": {
   "codemirror_mode": {
    "name": "ipython",
    "version": 3
   },
   "file_extension": ".py",
   "mimetype": "text/x-python",
   "name": "python",
   "nbconvert_exporter": "python",
   "pygments_lexer": "ipython3",
   "version": "3.9.12"
  },
  "orig_nbformat": 4,
  "vscode": {
   "interpreter": {
    "hash": "f75587dacee627cd4f922b679bcd65529678f042ef87d889d13fa7dbfc6775aa"
   }
  }
 },
 "nbformat": 4,
 "nbformat_minor": 2
}
