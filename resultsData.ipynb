{
 "cells": [
  {
   "cell_type": "code",
   "execution_count": 1,
   "metadata": {},
   "outputs": [],
   "source": [
    "import pandas as pd\n",
    "\n",
    "results_list = pd.read_pickle('/Users/chrisjackson/XXXX/NoSmoteResultsFinal.pkl')"
   ]
  },
  {
   "cell_type": "code",
   "execution_count": 2,
   "metadata": {},
   "outputs": [
    {
     "data": {
      "text/plain": [
       "7"
      ]
     },
     "execution_count": 2,
     "metadata": {},
     "output_type": "execute_result"
    }
   ],
   "source": [
    "len(results_list)"
   ]
  },
  {
   "cell_type": "code",
   "execution_count": 4,
   "metadata": {},
   "outputs": [
    {
     "data": {
      "text/plain": [
       "[{'name': RandomForestClassifier(random_state=42),\n",
       "  'best_estimator': RandomForestClassifier(class_weight={0: 1, 1: 25}, max_depth=5, random_state=42),\n",
       "  'report': {'no default': {'precision': 0.9926124916051041,\n",
       "    'recall': 0.9983113812901047,\n",
       "    'f1-score': 0.9954537800976596,\n",
       "    'support': 2961},\n",
       "   'default': {'precision': 0.7727272727272727,\n",
       "    'recall': 0.4358974358974359,\n",
       "    'f1-score': 0.5573770491803278,\n",
       "    'support': 39},\n",
       "   'accuracy': 0.991,\n",
       "   'macro avg': {'precision': 0.8826698821661885,\n",
       "    'recall': 0.7171044085937703,\n",
       "    'f1-score': 0.7764154146389937,\n",
       "    'support': 3000},\n",
       "   'weighted avg': {'precision': 0.9897539837596921,\n",
       "    'recall': 0.991,\n",
       "    'f1-score': 0.9897587825957342,\n",
       "    'support': 3000}}},\n",
       " {'name': SVC(probability=True, random_state=42),\n",
       "  'best_estimator': SVC(C=1, class_weight={0: 1}, gamma=1, kernel='linear', probability=True,\n",
       "      random_state=42),\n",
       "  'report': {'no default': {'precision': 0.995960955907102,\n",
       "    'recall': 0.9993245525160419,\n",
       "    'f1-score': 0.99763991908294,\n",
       "    'support': 2961},\n",
       "   'default': {'precision': 0.9310344827586207,\n",
       "    'recall': 0.6923076923076923,\n",
       "    'f1-score': 0.7941176470588235,\n",
       "    'support': 39},\n",
       "   'accuracy': 0.9953333333333333,\n",
       "   'macro avg': {'precision': 0.9634977193328613,\n",
       "    'recall': 0.8458161224118671,\n",
       "    'f1-score': 0.8958787830708818,\n",
       "    'support': 3000},\n",
       "   'weighted avg': {'precision': 0.9951169117561717,\n",
       "    'recall': 0.9953333333333333,\n",
       "    'f1-score': 0.9949941295466265,\n",
       "    'support': 3000}}},\n",
       " {'name': LogisticRegression(random_state=42),\n",
       "  'best_estimator': LogisticRegression(C=0.1, class_weight={0: 1, 1: 5}, penalty='l1',\n",
       "                     random_state=42, solver='liblinear'),\n",
       "  'report': {'no default': {'precision': 0.9976222826086957,\n",
       "    'recall': 0.9918946301925026,\n",
       "    'f1-score': 0.9947502116850127,\n",
       "    'support': 2961},\n",
       "   'default': {'precision': 0.5714285714285714,\n",
       "    'recall': 0.8205128205128205,\n",
       "    'f1-score': 0.6736842105263158,\n",
       "    'support': 39},\n",
       "   'accuracy': 0.9896666666666667,\n",
       "   'macro avg': {'precision': 0.7845254270186335,\n",
       "    'recall': 0.9062037253526616,\n",
       "    'f1-score': 0.8342172111056643,\n",
       "    'support': 3000},\n",
       "   'weighted avg': {'precision': 0.992081764363354,\n",
       "    'recall': 0.9896666666666667,\n",
       "    'f1-score': 0.9905763536699497,\n",
       "    'support': 3000}}},\n",
       " {'name': DecisionTreeClassifier(random_state=42),\n",
       "  'best_estimator': DecisionTreeClassifier(max_depth=5, max_features='sqrt', min_samples_split=10,\n",
       "                         random_state=42),\n",
       "  'report': {'no default': {'precision': 0.9886249581799933,\n",
       "    'recall': 0.9979736575481256,\n",
       "    'f1-score': 0.9932773109243697,\n",
       "    'support': 2961},\n",
       "   'default': {'precision': 0.45454545454545453,\n",
       "    'recall': 0.1282051282051282,\n",
       "    'f1-score': 0.19999999999999996,\n",
       "    'support': 39},\n",
       "   'accuracy': 0.9866666666666667,\n",
       "   'macro avg': {'precision': 0.7215852063627239,\n",
       "    'recall': 0.563089392876627,\n",
       "    'f1-score': 0.5966386554621848,\n",
       "    'support': 3000},\n",
       "   'weighted avg': {'precision': 0.9816819246327443,\n",
       "    'recall': 0.9866666666666667,\n",
       "    'f1-score': 0.982964705882353,\n",
       "    'support': 3000}}},\n",
       " {'name': KNeighborsClassifier(),\n",
       "  'best_estimator': KNeighborsClassifier(),\n",
       "  'report': {'no default': {'precision': 0.987,\n",
       "    'recall': 1.0,\n",
       "    'f1-score': 0.9934574735782586,\n",
       "    'support': 2961},\n",
       "   'default': {'precision': 0.0,\n",
       "    'recall': 0.0,\n",
       "    'f1-score': 0.0,\n",
       "    'support': 39},\n",
       "   'accuracy': 0.987,\n",
       "   'macro avg': {'precision': 0.4935,\n",
       "    'recall': 0.5,\n",
       "    'f1-score': 0.4967287367891293,\n",
       "    'support': 3000},\n",
       "   'weighted avg': {'precision': 0.9741690000000001,\n",
       "    'recall': 0.987,\n",
       "    'f1-score': 0.9805425264217412,\n",
       "    'support': 3000}}},\n",
       " {'name': HistGradientBoostingClassifier(random_state=42),\n",
       "  'best_estimator': HistGradientBoostingClassifier(max_leaf_nodes=10, random_state=42),\n",
       "  'report': {'no default': {'precision': 0.9952909519004373,\n",
       "    'recall': 0.9993245525160419,\n",
       "    'f1-score': 0.9973036737445231,\n",
       "    'support': 2961},\n",
       "   'default': {'precision': 0.9259259259259259,\n",
       "    'recall': 0.6410256410256411,\n",
       "    'f1-score': 0.7575757575757577,\n",
       "    'support': 39},\n",
       "   'accuracy': 0.9946666666666667,\n",
       "   'macro avg': {'precision': 0.9606084389131816,\n",
       "    'recall': 0.8201750967708414,\n",
       "    'f1-score': 0.8774397156601403,\n",
       "    'support': 3000},\n",
       "   'weighted avg': {'precision': 0.9943892065627686,\n",
       "    'recall': 0.9946666666666667,\n",
       "    'f1-score': 0.9941872108343291,\n",
       "    'support': 3000}}},\n",
       " {'name': XGBClassifier(base_score=None, booster=None, colsample_bylevel=None,\n",
       "                colsample_bynode=None, colsample_bytree=None,\n",
       "                enable_categorical=False, eval_metric='logloss', gamma=None,\n",
       "                gpu_id=None, importance_type=None, interaction_constraints=None,\n",
       "                learning_rate=None, max_delta_step=None, max_depth=None,\n",
       "                min_child_weight=None, missing=nan, monotone_constraints=None,\n",
       "                n_estimators=100, n_jobs=None, num_parallel_tree=None,\n",
       "                predictor=None, random_state=None, reg_alpha=None,\n",
       "                reg_lambda=None, scale_pos_weight=None, subsample=None,\n",
       "                tree_method=None, use_label_encoder=False,\n",
       "                validate_parameters=None, verbosity=None),\n",
       "  'best_estimator': XGBClassifier(base_score=0.5, booster='gbtree', colsample_bylevel=1,\n",
       "                colsample_bynode=1, colsample_bytree=1.0,\n",
       "                enable_categorical=False, eval_metric='logloss', gamma=1,\n",
       "                gpu_id=-1, importance_type=None, interaction_constraints='',\n",
       "                learning_rate=0.300000012, max_delta_step=0, max_depth=4,\n",
       "                min_child_weight=5, missing=nan, monotone_constraints='()',\n",
       "                n_estimators=100, n_jobs=10, num_parallel_tree=1,\n",
       "                predictor='auto', random_state=0, reg_alpha=0, reg_lambda=1,\n",
       "                scale_pos_weight=1, subsample=0.8, tree_method='exact',\n",
       "                use_label_encoder=False, validate_parameters=1, verbosity=None),\n",
       "  'report': {'no default': {'precision': 0.9956258411843876,\n",
       "    'recall': 0.9993245525160419,\n",
       "    'f1-score': 0.9974717680768583,\n",
       "    'support': 2961},\n",
       "   'default': {'precision': 0.9285714285714286,\n",
       "    'recall': 0.6666666666666666,\n",
       "    'f1-score': 0.7761194029850746,\n",
       "    'support': 39},\n",
       "   'accuracy': 0.995,\n",
       "   'macro avg': {'precision': 0.9620986348779081,\n",
       "    'recall': 0.8329956095913542,\n",
       "    'f1-score': 0.8867955855309665,\n",
       "    'support': 3000},\n",
       "   'weighted avg': {'precision': 0.9947541338204191,\n",
       "    'recall': 0.995,\n",
       "    'f1-score': 0.9945941873306652,\n",
       "    'support': 3000}}}]"
      ]
     },
     "execution_count": 4,
     "metadata": {},
     "output_type": "execute_result"
    }
   ],
   "source": [
    "results_list"
   ]
  },
  {
   "cell_type": "code",
   "execution_count": 114,
   "metadata": {},
   "outputs": [],
   "source": [
    "df = pd.DataFrame(columns=['name', 'no default', 'default'])\n",
    "for i in range(len(results_list)):\n",
    "    name = str(results_list[i]['name'])\n",
    "    noDefault = results_list[i]['report']['no default']['f1-score']\n",
    "    default = results_list[i]['report']['default']['f1-score']\n",
    "    df.loc[i] = [name, noDefault, default]"
   ]
  },
  {
   "cell_type": "code",
   "execution_count": 115,
   "metadata": {},
   "outputs": [
    {
     "data": {
      "text/html": [
       "<div><div id=fdbfd4cd-6c5a-488c-9ff6-f324da874b51 style=\"display:none; background-color:#9D6CFF; color:white; width:200px; height:30px; padding-left:5px; border-radius:4px; flex-direction:row; justify-content:space-around; align-items:center;\" onmouseover=\"this.style.backgroundColor='#BA9BF8'\" onmouseout=\"this.style.backgroundColor='#9D6CFF'\" onclick=\"window.commands?.execute('create-mitosheet-from-dataframe-output');\">See Full Dataframe in Mito</div> <script> if (window.commands.hasCommand('create-mitosheet-from-dataframe-output')) document.getElementById('fdbfd4cd-6c5a-488c-9ff6-f324da874b51').style.display = 'flex' </script> <table border=\"1\" class=\"dataframe\">\n",
       "  <thead>\n",
       "    <tr style=\"text-align: right;\">\n",
       "      <th></th>\n",
       "      <th>name</th>\n",
       "      <th>no default</th>\n",
       "      <th>default</th>\n",
       "    </tr>\n",
       "  </thead>\n",
       "  <tbody>\n",
       "    <tr>\n",
       "      <th>0</th>\n",
       "      <td>RandomForestClassifier(random_state=42)</td>\n",
       "      <td>0.995454</td>\n",
       "      <td>0.557377</td>\n",
       "    </tr>\n",
       "    <tr>\n",
       "      <th>1</th>\n",
       "      <td>SVC(probability=True, random_state=42)</td>\n",
       "      <td>0.997640</td>\n",
       "      <td>0.794118</td>\n",
       "    </tr>\n",
       "    <tr>\n",
       "      <th>2</th>\n",
       "      <td>LogisticRegression(random_state=42)</td>\n",
       "      <td>0.994750</td>\n",
       "      <td>0.673684</td>\n",
       "    </tr>\n",
       "    <tr>\n",
       "      <th>3</th>\n",
       "      <td>DecisionTreeClassifier(random_state=42)</td>\n",
       "      <td>0.993277</td>\n",
       "      <td>0.200000</td>\n",
       "    </tr>\n",
       "    <tr>\n",
       "      <th>4</th>\n",
       "      <td>KNeighborsClassifier()</td>\n",
       "      <td>0.993457</td>\n",
       "      <td>0.000000</td>\n",
       "    </tr>\n",
       "    <tr>\n",
       "      <th>5</th>\n",
       "      <td>HistGradientBoostingClassifier(random_state=42)</td>\n",
       "      <td>0.997304</td>\n",
       "      <td>0.757576</td>\n",
       "    </tr>\n",
       "    <tr>\n",
       "      <th>6</th>\n",
       "      <td>XGBClassifier(base_score=None, booster=None, colsample_bylevel=None,\\n              colsample_bynode=None, colsample_bytree=None,\\n              enable_categorical=False, eval_metric='logloss', gamma=None,\\n              gpu_id=None, importance_type=None, interaction_constraints=None,\\n              learning_rate=None, max_delta_step=None, max_depth=None,\\n              min_child_weight=None, missing=nan, monotone_constraints=None,\\n              n_estimators=100, n_jobs=None, num_parallel_tree=None,\\n              predictor=None, random_state=None, reg_alpha=None,\\n              reg_lambda=None, scale_pos_weight=None, subsample=None,\\n              tree_method=None, use_label_encoder=False,\\n              validate_parameters=None, verbosity=None)</td>\n",
       "      <td>0.997472</td>\n",
       "      <td>0.776119</td>\n",
       "    </tr>\n",
       "  </tbody>\n",
       "</table></div>"
      ],
      "text/plain": [
       "                                                name  no default   default\n",
       "0            RandomForestClassifier(random_state=42)    0.995454  0.557377\n",
       "1             SVC(probability=True, random_state=42)    0.997640  0.794118\n",
       "2                LogisticRegression(random_state=42)    0.994750  0.673684\n",
       "3            DecisionTreeClassifier(random_state=42)    0.993277  0.200000\n",
       "4                             KNeighborsClassifier()    0.993457  0.000000\n",
       "5    HistGradientBoostingClassifier(random_state=42)    0.997304  0.757576\n",
       "6  XGBClassifier(base_score=None, booster=None, c...    0.997472  0.776119"
      ]
     },
     "execution_count": 115,
     "metadata": {},
     "output_type": "execute_result"
    }
   ],
   "source": [
    "df"
   ]
  },
  {
   "cell_type": "code",
   "execution_count": 116,
   "metadata": {},
   "outputs": [],
   "source": [
    "df.to_csv('NoSmoteResultsFinal.csv')"
   ]
  },
  {
   "cell_type": "code",
   "execution_count": null,
   "metadata": {},
   "outputs": [],
   "source": []
  }
 ],
 "metadata": {
  "kernelspec": {
   "display_name": "Python 3.9.12 ('mini_env')",
   "language": "python",
   "name": "python3"
  },
  "language_info": {
   "codemirror_mode": {
    "name": "ipython",
    "version": 3
   },
   "file_extension": ".py",
   "mimetype": "text/x-python",
   "name": "python",
   "nbconvert_exporter": "python",
   "pygments_lexer": "ipython3",
   "version": "3.9.12"
  },
  "orig_nbformat": 4,
  "vscode": {
   "interpreter": {
    "hash": "f75587dacee627cd4f922b679bcd65529678f042ef87d889d13fa7dbfc6775aa"
   }
  }
 },
 "nbformat": 4,
 "nbformat_minor": 2
}
