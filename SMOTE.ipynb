{
 "cells": [
  {
   "cell_type": "code",
   "execution_count": 22,
   "metadata": {},
   "outputs": [],
   "source": [
    "import pandas as pd\n",
    "import numpy as np\n",
    "from sklearn.pipeline import Pipeline\n",
    "from sklearn.impute import SimpleImputer\n",
    "from sklearn.preprocessing import StandardScaler, OneHotEncoder\n",
    "from sklearn.compose import ColumnTransformer\n",
    "from sklearn.compose import make_column_selector as selector\n",
    "from sklearn.model_selection import train_test_split\n",
    "\n",
    "df = pd.read_csv('/Users/chrisjackson/XXXX/1_Financial Data.csv')\n",
    "df2 = pd.read_csv('/Users/chrisjackson/XXXX/2_Default Data.csv')\n",
    "df['default'] = np.where(df['LOAN_ID'].isin(df2['LOAN_ID']), 1, 0)\n"
   ]
  },
  {
   "cell_type": "code",
   "execution_count": 23,
   "metadata": {},
   "outputs": [],
   "source": [
    "num_transform = Pipeline(steps=[\n",
    "    ('imputer', SimpleImputer(strategy='median')),\n",
    "    ('scaler', StandardScaler())])\n",
    "cat_transform = Pipeline(steps=[\n",
    "    ('imputer', SimpleImputer(strategy='constant', fill_value='missing')),\n",
    "    ('onehot', OneHotEncoder(handle_unknown='ignore'))])\n"
   ]
  },
  {
   "cell_type": "code",
   "execution_count": 24,
   "metadata": {},
   "outputs": [],
   "source": [
    "X = df.drop(['default', 'LOAN_ID'], axis=1)\n",
    "y = df['default']\n",
    "X_train, X_test, y_train, y_test = train_test_split(\n",
    "    X, y, test_size=0.30, random_state=42, stratify=y)\n"
   ]
  },
  {
   "cell_type": "code",
   "execution_count": 25,
   "metadata": {},
   "outputs": [],
   "source": [
    "num_features = df.select_dtypes(include=['int64', 'float64']).drop([\n",
    "    'PD_RISK_RATING', 'default'], axis=1)\n",
    "cat_features = df.select_dtypes(include=['object']).drop(['LOAN_ID'], axis=1)\n",
    "\n",
    "numeric_cols = df.dtypes.apply(lambda x: x.kind in 'bifc').reset_index(\n",
    "    drop=True).loc[lambda x: x == True].index\n",
    "cat_cols = (df.dtypes == 'object').reset_index(\n",
    "    drop=True).loc[lambda x: x == True].index\n",
    "\n",
    "preprocessor = ColumnTransformer(\n",
    "    transformers=[\n",
    "        ('num', num_transform,  selector(dtype_exclude=\"object\")),\n",
    "        ('cat', cat_transform, selector(dtype_include=\"object\"))])\n"
   ]
  },
  {
   "cell_type": "code",
   "execution_count": 29,
   "metadata": {},
   "outputs": [],
   "source": [
    "X_train_pipe = preprocessor.fit_transform(X_train)\n",
    "X_test_pipe = preprocessor.fit_transform(X_test)\n"
   ]
  },
  {
   "cell_type": "code",
   "execution_count": 35,
   "metadata": {},
   "outputs": [],
   "source": [
    "from imblearn.over_sampling import SMOTE\n",
    "os = SMOTE(random_state=0)\n",
    "\n",
    "# columns = X_train_pipe.columns\n",
    "os_data_X, os_data_y = os.fit_resample(X_train_pipe, y_train)\n"
   ]
  },
  {
   "cell_type": "code",
   "execution_count": 43,
   "metadata": {},
   "outputs": [
    {
     "data": {
      "text/plain": [
       "numpy.ndarray"
      ]
     },
     "execution_count": 43,
     "metadata": {},
     "output_type": "execute_result"
    }
   ],
   "source": [
    "type(os_data_X)\n"
   ]
  },
  {
   "cell_type": "code",
   "execution_count": 37,
   "metadata": {},
   "outputs": [
    {
     "data": {
      "text/plain": [
       "0    6910\n",
       "1    6910\n",
       "Name: default, dtype: int64"
      ]
     },
     "execution_count": 37,
     "metadata": {},
     "output_type": "execute_result"
    }
   ],
   "source": [
    "os_data_y.value_counts()\n"
   ]
  },
  {
   "cell_type": "code",
   "execution_count": 39,
   "metadata": {},
   "outputs": [
    {
     "name": "stdout",
     "output_type": "stream",
     "text": [
      "length of oversampled data is  13820\n",
      "Number of no default in oversampled data  6910\n",
      "Number of default 6910\n",
      "Proportion of no default data in oversampled data is  0.5\n",
      "Proportion of default data in oversampled data is  0.5\n"
     ]
    }
   ],
   "source": [
    "print(\"length of oversampled data is \", len(os_data_X))\n",
    "print(\"Number of no default in oversampled data \",\n",
    "      len(os_data_y[os_data_y == 0]))\n",
    "print(\"Number of default\", len(os_data_y[os_data_y == 1]))\n",
    "print(\"Proportion of no default data in oversampled data is \",\n",
    "      len(os_data_y[os_data_y == 0])/len(os_data_X))\n",
    "print(\"Proportion of default data in oversampled data is \",\n",
    "      len(os_data_y[os_data_y == 1])/len(os_data_X))\n"
   ]
  },
  {
   "cell_type": "code",
   "execution_count": 40,
   "metadata": {},
   "outputs": [],
   "source": [
    "from sklearn.linear_model import LogisticRegression\n",
    "from sklearn.metrics import f1_score\n",
    "from sklearn.metrics import classification_report\n"
   ]
  },
  {
   "cell_type": "code",
   "execution_count": 41,
   "metadata": {},
   "outputs": [],
   "source": [
    "pipeline = Pipeline(steps=[('preprocessor', preprocessor),\n",
    "                    ('classifier', LogisticRegression(solver='lbfgs', max_iter=1000))])\n"
   ]
  },
  {
   "cell_type": "code",
   "execution_count": 45,
   "metadata": {},
   "outputs": [],
   "source": [
    "pipeline.fit(pd.DataFrame(os_data_X), os_data_y)\n",
    "y_pred = pipeline.predict(X_test_pipe)\n"
   ]
  },
  {
   "cell_type": "code",
   "execution_count": 46,
   "metadata": {},
   "outputs": [
    {
     "name": "stdout",
     "output_type": "stream",
     "text": [
      "              precision    recall  f1-score   support\n",
      "\n",
      "           0       1.00      0.96      0.98      2961\n",
      "           1       0.22      0.92      0.36        39\n",
      "\n",
      "    accuracy                           0.96      3000\n",
      "   macro avg       0.61      0.94      0.67      3000\n",
      "weighted avg       0.99      0.96      0.97      3000\n",
      "\n"
     ]
    }
   ],
   "source": [
    "print(classification_report(y_test, y_pred))\n"
   ]
  }
 ],
 "metadata": {
  "kernelspec": {
   "display_name": "Python 3.9.12 ('mini_env')",
   "language": "python",
   "name": "python3"
  },
  "language_info": {
   "codemirror_mode": {
    "name": "ipython",
    "version": 3
   },
   "file_extension": ".py",
   "mimetype": "text/x-python",
   "name": "python",
   "nbconvert_exporter": "python",
   "pygments_lexer": "ipython3",
   "version": "3.9.12"
  },
  "orig_nbformat": 4,
  "vscode": {
   "interpreter": {
    "hash": "f75587dacee627cd4f922b679bcd65529678f042ef87d889d13fa7dbfc6775aa"
   }
  }
 },
 "nbformat": 4,
 "nbformat_minor": 2
}
